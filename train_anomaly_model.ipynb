{
 "cells": [
  {
   "cell_type": "markdown",
   "id": "04686bcf",
   "metadata": {},
   "source": [
    "Importing Libraries"
   ]
  },
  {
   "cell_type": "code",
   "execution_count": null,
   "id": "af1053a6",
   "metadata": {},
   "outputs": [],
   "source": [
    "from pathlib import Path\n",
    "from typing import Any, Dict\n",
    "\n",
    "import os\n",
    "import numpy as np\n",
    "from PIL import Image\n",
    "from pytorch_lightning import Trainer\n",
    "from torchvision.transforms import ToPILImage\n",
    "\n",
    "from heat_anomaly.config import get_configurable_parameters\n",
    "from heat_anomaly.data import get_datamodule\n",
    "from heat_anomaly.models import get_model\n",
    "from heat_anomaly.pre_processing.transforms import Denormalize\n",
    "from heat_anomaly.utils.callbacks import LoadModelCallback, get_callbacks"
   ]
  },
  {
   "cell_type": "markdown",
   "id": "84f87aaa",
   "metadata": {},
   "source": [
    "Configurations for model and the parameters"
   ]
  },
  {
   "cell_type": "code",
   "execution_count": null,
   "id": "927bcb1c",
   "metadata": {},
   "outputs": [],
   "source": [
    "MODEL = \"cflow\"\n",
    "CONFIG_PATH = f\"./heat_anomaly/models/{MODEL}/ir_image.yaml\"\n",
    "config = get_configurable_parameters(config_path=CONFIG_PATH)"
   ]
  },
  {
   "cell_type": "markdown",
   "id": "6ac4bcff",
   "metadata": {},
   "source": [
    "L"
   ]
  },
  {
   "cell_type": "code",
   "execution_count": null,
   "id": "8f6061f4",
   "metadata": {},
   "outputs": [],
   "source": [
    "datamodule = get_datamodule(config)\n",
    "datamodule.setup()\n",
    "datamodule.prepare_data()"
   ]
  }
 ],
 "metadata": {
  "kernelspec": {
   "display_name": "Python 3 (ipykernel)",
   "language": "python",
   "name": "python3"
  },
  "language_info": {
   "codemirror_mode": {
    "name": "ipython",
    "version": 3
   },
   "file_extension": ".py",
   "mimetype": "text/x-python",
   "name": "python",
   "nbconvert_exporter": "python",
   "pygments_lexer": "ipython3",
   "version": "3.9.15"
  }
 },
 "nbformat": 4,
 "nbformat_minor": 5
}
