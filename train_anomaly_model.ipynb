{
 "cells": [
  {
   "cell_type": "markdown",
   "id": "04686bcf",
   "metadata": {},
   "source": [
    "Importing Libraries"
   ]
  },
  {
   "cell_type": "code",
   "execution_count": null,
   "id": "af1053a6",
   "metadata": {},
   "outputs": [],
   "source": [
    "from pathlib import Path\n",
    "from typing import Any, Dict\n",
    "\n",
    "import os\n",
    "import numpy as np\n",
    "from PIL import Image\n",
    "from pytorch_lightning import Trainer\n",
    "from torchvision.transforms import ToPILImage\n",
    "\n",
    "from heat_anomaly.config import get_configurable_parameters\n",
    "from heat_anomaly.data import get_datamodule\n",
    "from heat_anomaly.models import get_model\n",
    "from heat_anomaly.pre_processing.transforms import Denormalize\n",
    "from heat_anomaly.utils.callbacks import LoadModelCallback, get_callbacks"
   ]
  },
  {
   "cell_type": "markdown",
   "id": "84f87aaa",
   "metadata": {},
   "source": [
    "Configurations for model and the parameters"
   ]
  },
  {
   "cell_type": "code",
   "execution_count": null,
   "id": "927bcb1c",
   "metadata": {},
   "outputs": [],
   "source": [
    "MODEL = \"cflow\"\n",
    "CONFIG_PATH = f\"./heat_anomaly/models/{MODEL}/ir_image.yaml\"\n",
    "config = get_configurable_parameters(config_path=CONFIG_PATH)"
   ]
  },
  {
   "attachments": {},
   "cell_type": "markdown",
   "id": "6ac4bcff",
   "metadata": {},
   "source": [
    "Loading the data"
   ]
  },
  {
   "cell_type": "code",
   "execution_count": null,
   "id": "8f6061f4",
   "metadata": {},
   "outputs": [],
   "source": [
    "datamodule = get_datamodule(config)\n",
    "datamodule.setup()\n",
    "datamodule.prepare_data()"
   ]
  },
  {
   "attachments": {},
   "cell_type": "markdown",
   "id": "6282395f",
   "metadata": {},
   "source": [
    "Starting the training"
   ]
  },
  {
   "cell_type": "code",
   "execution_count": null,
   "id": "53dd0119",
   "metadata": {},
   "outputs": [],
   "source": [
    "model = get_model(config)\n",
    "callbacks = get_callbacks(config)"
   ]
  },
  {
   "cell_type": "code",
   "execution_count": null,
   "id": "a3c1914c",
   "metadata": {},
   "outputs": [],
   "source": [
    "# start training\n",
    "trainer = Trainer(**config.trainer, callbacks=callbacks)\n",
    "trainer.fit(model=model, datamodule=datamodule)"
   ]
  },
  {
   "attachments": {},
   "cell_type": "markdown",
   "id": "3afca6b3",
   "metadata": {},
   "source": [
    "Validation"
   ]
  },
  {
   "cell_type": "code",
   "execution_count": null,
   "id": "fe0308e9",
   "metadata": {},
   "outputs": [],
   "source": [
    "# load best model from checkpoint before evaluating\n",
    "load_model_callback = LoadModelCallback(weights_path=trainer.checkpoint_callback.best_model_path)\n",
    "trainer.callbacks.insert(0, load_model_callback)\n",
    "trainer.test(model=model, datamodule=datamodule)"
   ]
  }
 ],
 "metadata": {
  "kernelspec": {
   "display_name": "test",
   "language": "python",
   "name": "python3"
  },
  "language_info": {
   "codemirror_mode": {
    "name": "ipython",
    "version": 3
   },
   "file_extension": ".py",
   "mimetype": "text/x-python",
   "name": "python",
   "nbconvert_exporter": "python",
   "pygments_lexer": "ipython3",
   "version": "3.8.15 (default, Nov 24 2022, 14:37:29) \n[GCC 11.2.0]"
  },
  "vscode": {
   "interpreter": {
    "hash": "e97ec197f8f04b8b3e90491c9d4c60bf32e3eeacf6cc1c1010078f92304ee336"
   }
  }
 },
 "nbformat": 4,
 "nbformat_minor": 5
}
