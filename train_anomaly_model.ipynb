{
 "cells": [
  {
   "attachments": {},
   "cell_type": "markdown",
   "id": "372265ee",
   "metadata": {},
   "source": [
    "Add your google drive to the colab notebook"
   ]
  },
  {
   "cell_type": "code",
   "execution_count": null,
   "id": "bad6c6de",
   "metadata": {},
   "outputs": [],
   "source": [
    "from google.colab import drive\n",
    "drive.mount('/content/drive', force_remount=True)"
   ]
  },
  {
   "attachments": {},
   "cell_type": "markdown",
   "id": "2a35df7c",
   "metadata": {},
   "source": [
    "Clone the github repo for the training the anomaly detection"
   ]
  },
  {
   "cell_type": "code",
   "execution_count": null,
   "id": "3cd0a908",
   "metadata": {},
   "outputs": [],
   "source": [
    "!git clone https://github.com/metric-space-ai/cflow_infrared_images.git\n",
    "%cd cflow_infrared_images"
   ]
  },
  {
   "attachments": {},
   "cell_type": "markdown",
   "id": "d17f3c6b",
   "metadata": {},
   "source": [
    "Create the YAML file inputs"
   ]
  },
  {
   "attachments": {},
   "cell_type": "markdown",
   "id": "bef56c6d",
   "metadata": {},
   "source": [
    "1. path to the images and mask"
   ]
  },
  {
   "cell_type": "code",
   "execution_count": null,
   "id": "8d6dd60d",
   "metadata": {},
   "outputs": [],
   "source": [
    "path = \"/content/drive/MyDrive/metric_space/IRBilder\" #@param {type:\"string\"}\n",
    "normal_dir = \"normal\" #@param {type:\"string\"}\n",
    "abnormal_dir = \"abnormal\" #@param {type:\"string\"}\n",
    "normal_test_dir = \"normal_test\" #@param {type:\"string\"}\n",
    "mask = \"/content/drive/MyDrive/metric_space/IRBilder/abnormal_test\" #@param {type:\"string\"}"
   ]
  },
  {
   "attachments": {},
   "cell_type": "markdown",
   "id": "612bf1e2",
   "metadata": {},
   "source": [
    " 2. Training hyperparameters"
   ]
  },
  {
   "cell_type": "code",
   "execution_count": null,
   "id": "c763d0fd",
   "metadata": {},
   "outputs": [],
   "source": [
    "split_ratio = 0.2 #@param {type:\"number\"}\n",
    "image_size = 256 #@param {type:\"integer\"}\n",
    "train_batch_size = 16 #@param {type:\"integer\"}\n",
    "test_batch_size = 16 #@param {type:\"integer\"}\n",
    "inference_batch_size = 16 #@param {type:\"integer\"}\n",
    "fiber_batch_size = 64 #@param {type:\"integer\"}"
   ]
  },
  {
   "attachments": {},
   "cell_type": "markdown",
   "id": "070855ed",
   "metadata": {},
   "source": [
    "Choose the model and corresponding configuration file"
   ]
  },
  {
   "cell_type": "code",
   "execution_count": null,
   "id": "7656ca09",
   "metadata": {},
   "outputs": [],
   "source": [
    "MODEL = \"cflow\"\n",
    "CONFIG_PATH = f\"heat_anomaly/models/{MODEL}/ir_image.yaml\""
   ]
  },
  {
   "attachments": {},
   "cell_type": "markdown",
   "id": "6396d691",
   "metadata": {},
   "source": [
    "Formatting the configuration file with the user input"
   ]
  },
  {
   "cell_type": "code",
   "execution_count": null,
   "id": "4125227a",
   "metadata": {},
   "outputs": [],
   "source": [
    "import yaml\n",
    "\n",
    "with open(CONFIG_PATH, \"r\") as stream:\n",
    "    try:\n",
    "        config_entries = yaml.safe_load(stream)\n",
    "    except yaml.YAMLError as exc:\n",
    "        print(exc)"
   ]
  },
  {
   "attachments": {},
   "cell_type": "markdown",
   "id": "f6de21a5",
   "metadata": {},
   "source": [
    "1. Adding the user-defined path to the YAML"
   ]
  },
  {
   "cell_type": "code",
   "execution_count": null,
   "id": "f0b186ac",
   "metadata": {},
   "outputs": [],
   "source": [
    "config_entries['dataset']['path'] = path\n",
    "config_entries['dataset']['normal_dir'] = normal_dir\n",
    "config_entries['dataset']['abnormal_dir'] = abnormal_dir\n",
    "config_entries['dataset']['normal_test_dir'] = normal_test_dir\n",
    "config_entries['dataset']['mask'] = mask"
   ]
  },
  {
   "attachments": {},
   "cell_type": "markdown",
   "id": "9c3fa89a",
   "metadata": {},
   "source": [
    "2. Adding the use defined hyperparameters"
   ]
  },
  {
   "cell_type": "code",
   "execution_count": null,
   "id": "0303301e",
   "metadata": {
    "vscode": {
     "languageId": "ruby"
    }
   },
   "outputs": [],
   "source": [
    "config_entries['dataset']['split_ratio'] = split_ratio\n",
    "config_entries['dataset']['image_size'] = image_size\n",
    "config_entries['dataset']['train_batch_size'] = train_batch_size\n",
    "config_entries['dataset']['test_batch_size'] = test_batch_size\n",
    "config_entries['dataset']['inference_batch_size'] = inference_batch_size\n",
    "config_entries['dataset']['fiber_batch_size'] = fiber_batch_size"
   ]
  },
  {
   "attachments": {},
   "cell_type": "markdown",
   "id": "1cecb311",
   "metadata": {},
   "source": [
    "3. Saving the revised configuration file"
   ]
  },
  {
   "cell_type": "code",
   "execution_count": null,
   "id": "38098d5e",
   "metadata": {},
   "outputs": [],
   "source": [
    "with open(CONFIG_PATH, 'w') as yaml_file:\n",
    "    yaml.dump(config_entries, yaml_file, default_flow_style=False)"
   ]
  },
  {
   "attachments": {},
   "cell_type": "markdown",
   "id": "2675f99e",
   "metadata": {},
   "source": [
    "Installing the required packages"
   ]
  },
  {
   "cell_type": "code",
   "execution_count": null,
   "id": "f7cf02c9",
   "metadata": {},
   "outputs": [],
   "source": [
    "!pip install -r requirements.txt"
   ]
  },
  {
   "cell_type": "markdown",
   "id": "04686bcf",
   "metadata": {},
   "source": [
    "Importing Libraries"
   ]
  },
  {
   "cell_type": "code",
   "execution_count": null,
   "id": "af1053a6",
   "metadata": {},
   "outputs": [],
   "source": [
    "from pathlib import Path\n",
    "from typing import Any, Dict\n",
    "\n",
    "import os\n",
    "import numpy as np\n",
    "from PIL import Image\n",
    "from pytorch_lightning import Trainer\n",
    "from torchvision.transforms import ToPILImage\n",
    "\n",
    "from heat_anomaly.config import get_configurable_parameters\n",
    "from heat_anomaly.data import get_datamodule\n",
    "from heat_anomaly.models import get_model\n",
    "from heat_anomaly.pre_processing.transforms import Denormalize\n",
    "from heat_anomaly.utils.callbacks import LoadModelCallback, get_callbacks"
   ]
  },
  {
   "attachments": {},
   "cell_type": "markdown",
   "id": "84f87aaa",
   "metadata": {},
   "source": [
    "Prepare the model and load the configurations"
   ]
  },
  {
   "cell_type": "code",
   "execution_count": null,
   "id": "927bcb1c",
   "metadata": {},
   "outputs": [],
   "source": [
    "config = get_configurable_parameters(config_path=CONFIG_PATH)\n",
    "model = get_model(config)\n",
    "callbacks = get_callbacks(config)"
   ]
  },
  {
   "attachments": {},
   "cell_type": "markdown",
   "id": "6ac4bcff",
   "metadata": {},
   "source": [
    "Prepare the data for the training"
   ]
  },
  {
   "cell_type": "code",
   "execution_count": null,
   "id": "8f6061f4",
   "metadata": {},
   "outputs": [],
   "source": [
    "datamodule = get_datamodule(config)\n",
    "datamodule.setup()\n",
    "datamodule.prepare_data()"
   ]
  },
  {
   "attachments": {},
   "cell_type": "markdown",
   "id": "76d42bb7",
   "metadata": {},
   "source": [
    "Training the detector"
   ]
  },
  {
   "cell_type": "code",
   "execution_count": null,
   "id": "7030c2ed",
   "metadata": {},
   "outputs": [],
   "source": [
    "trainer = Trainer(**config.trainer, callbacks=callbacks)\n",
    "trainer.fit(model=model, datamodule=datamodule)"
   ]
  },
  {
   "attachments": {},
   "cell_type": "markdown",
   "id": "c62e9ab9",
   "metadata": {},
   "source": [
    "Validating the training"
   ]
  },
  {
   "cell_type": "code",
   "execution_count": null,
   "id": "afefe1de",
   "metadata": {},
   "outputs": [],
   "source": [
    "load_model_callback = LoadModelCallback(weights_path=trainer.checkpoint_callback.best_model_path)\n",
    "trainer.callbacks.insert(0, load_model_callback)\n",
    "trainer.test(model=model, datamodule=datamodule)"
   ]
  }
 ],
 "metadata": {
  "kernelspec": {
   "display_name": "precon_test",
   "language": "python",
   "name": "python3"
  },
  "language_info": {
   "codemirror_mode": {
    "name": "ipython",
    "version": 3
   },
   "file_extension": ".py",
   "mimetype": "text/x-python",
   "name": "python",
   "nbconvert_exporter": "python",
   "pygments_lexer": "ipython3",
   "version": "3.9.15 (main, Nov 24 2022, 14:31:59) \n[GCC 11.2.0]"
  },
  "vscode": {
   "interpreter": {
    "hash": "e37df777273368645f478a8906e81ae084013c853ffc72cd70e54a32c61a6af6"
   }
  }
 },
 "nbformat": 4,
 "nbformat_minor": 5
}
